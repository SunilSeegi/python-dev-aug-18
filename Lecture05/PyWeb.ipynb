{
 "cells": [
  {
   "cell_type": "markdown",
   "metadata": {},
   "source": [
    "# <p style=\"text-align:center;font-size:70px;background-color:#0ad61b;color:white;font-style:italic;\">Python for web</p>\n",
    "\n",
    "![](http://www.blog.skytopper.com/wp-content/uploads/2015/06/Global-computer-network.jpg)\n",
    "\n",
    "This bootcamp is all about interacting with **web** using Python programming language!\n",
    "\n",
    "In this bootcamp, we will learn:\n",
    "\n",
    "- to work with web APIs\n",
    "- to download content from web\n",
    "- web scraping\n",
    "- web automation\n",
    "\n",
    "using simple python scripts!\n",
    "\n",
    "![](https://i.amz.mshcdn.com/mqczOBQlR2uS7uALqB4fkKylDx0=/fit-in/1200x9600/https%3A%2F%2Fblueprint-api-production.s3.amazonaws.com%2Fuploads%2Fcard%2Fimage%2F193985%2Fnewhere.jpg)"
   ]
  },
  {
   "cell_type": "markdown",
   "metadata": {},
   "source": [
    "# 1. Working with web APIs\n",
    "\n",
    "- **What is API?**<br>\n",
    "    API is a set of routines, protocols, and tools for building software applications. An API specifies how software components should interact. \n",
    "![](https://www.retriever.nl/wp-content/uploads/2016/11/api-321x250.png)\n",
    "-------------\n",
    "\n",
    "- **What is web API?**<br>\n",
    "    Web API is a framework for building HTTP services that can be consumed by a broad range of clients including browsers, mobiles, iphone and tablets.\n",
    "![](http://dselva.co.in/blog/wp-content/uploads/2017/09/Web-APIs.png)\n",
    "-----------------\n",
    "- **Some examples of public web APIs:**\n",
    "    - [Facebook Graph API](https://developers.facebook.com/docs/graph-api)\n",
    "    - [Twitter API](https://dev.twitter.com/rest/public)\n",
    "    - [Google API explorer](https://developers.google.com/apis-explorer/#p/)\n",
    "--------------\n",
    "\n",
    "- **What is REST?**<br>\n",
    "    REST is an architectural style followed by web services, in which, they allow requesting systems to access and manipulate their Web resources using a uniform and predefined set of **stateless operations**.\n",
    "    \n",
    "    >In computing, a stateless protocol is a communications protocol in which no information is retained by either sender or receiver. The sender transmits a packet to the receiver and does not expect an acknowledgment of receipt. There is nothing saved that has to be remembered by the next transaction. The server must be able to completely understand the client request without using any server context or server session state. \n",
    "    \n",
    "   Advantages of REST:\n",
    "   - As the transactions are stateless, we can direct them to any instance of the web service. (As no sessions are involved). Hence, the web service can scale to accommodate load changes.\n",
    "   - Binding to a service through an API is a matter of controlling how the URL is decoded.\n",
    "\n",
    "-----------------\n",
    "- **Types of HTTP requests**\n",
    "    - GET\n",
    "    - POST\n",
    "    - DELETE\n",
    "    - PUT\n",
    "    - PATCH, etc.\n",
    "    \n",
    "![](http://lotsofthing.com/wp-content/uploads/2017/11/rest-api-1.jpg)"
   ]
  },
  {
   "cell_type": "markdown",
   "metadata": {},
   "source": [
    "### HTTP  for humans: [requests](http://docs.python-requests.org/en/master/)\n",
    "\n",
    "<img src=\"http://docs.python-requests.org/en/master/_static/requests-sidebar.png\"  height=200 width=200>\n",
    "\n",
    "\n",
    "- Requests is one of the most downloaded Python packages of all time, pulling in over 7,000,000 downloads every month.All the cool kids are doing it\n",
    "\n",
    "- Recreational use of other HTTP libraries may result in dangerous side-effects, including: security vulnerabilities, verbose code, reinventing the wheel, constantly reading documentation, depression, headaches, or even death. Requests is the only Non-GMO HTTP library for Python, safe for human consumption.\n",
    "\n",
    "- Python HTTP: When in doubt, or when not in doubt, use Requests. Beautiful, simple, Pythonic.\n",
    "\n",
    "***Everybody loves it!***\n",
    "\n",
    "#### Installation\n",
    "\n",
    "```\n",
    "pip install requests\n",
    "```"
   ]
  },
  {
   "cell_type": "markdown",
   "metadata": {},
   "source": [
    "## GET request\n",
    "\n",
    "### Example 1\n",
    "\n",
    "http://graph.facebook.com/4/picture?type=large\n",
    "\n",
    "![](http://graph.facebook.com/4/picture?type=large)\n",
    "\n",
    "![](https://encrypted-tbn0.gstatic.com/images?q=tbn:ANd9GcTJ3ELNuC_coeH9tvLn62fsTMoe-vMVQrsfTrLUOIhsUI69i5QIyg)"
   ]
  },
  {
   "cell_type": "markdown",
   "metadata": {},
   "source": [
    "![](http://i.imgur.com/gRvt4lV.png)"
   ]
  },
  {
   "cell_type": "code",
   "execution_count": 1,
   "metadata": {},
   "outputs": [],
   "source": [
    "import requests"
   ]
  },
  {
   "cell_type": "code",
   "execution_count": 2,
   "metadata": {},
   "outputs": [],
   "source": [
    "url = \"http://graph.facebook.com/4/picture?type=large\""
   ]
  },
  {
   "cell_type": "code",
   "execution_count": 3,
   "metadata": {},
   "outputs": [],
   "source": [
    "resp = requests.get(url)"
   ]
  },
  {
   "cell_type": "code",
   "execution_count": 5,
   "metadata": {},
   "outputs": [],
   "source": [
    "with open(\"mark.jpg\", 'wb') as f:\n",
    "    f.write(resp.content)"
   ]
  },
  {
   "cell_type": "markdown",
   "metadata": {},
   "source": [
    "### Example 2\n",
    "\n",
    "[Google maps geocoding API](https://developers.google.com/maps/documentation/geocoding/intro)"
   ]
  },
  {
   "cell_type": "code",
   "execution_count": 6,
   "metadata": {},
   "outputs": [],
   "source": [
    "url = \"https://maps.googleapis.com/maps/api/geocode/json\""
   ]
  },
  {
   "cell_type": "code",
   "execution_count": 7,
   "metadata": {},
   "outputs": [],
   "source": [
    "params = {\n",
    "    'address': 'Coding blocks, kohat'\n",
    "}"
   ]
  },
  {
   "cell_type": "code",
   "execution_count": 8,
   "metadata": {},
   "outputs": [],
   "source": [
    "r = requests.get(url, params=params)"
   ]
  },
  {
   "cell_type": "code",
   "execution_count": 9,
   "metadata": {},
   "outputs": [
    {
     "data": {
      "text/plain": [
       "'https://maps.googleapis.com/maps/api/geocode/json?address=Coding+blocks%2C+kohat'"
      ]
     },
     "execution_count": 9,
     "metadata": {},
     "output_type": "execute_result"
    }
   ],
   "source": [
    "r.url"
   ]
  },
  {
   "cell_type": "code",
   "execution_count": 12,
   "metadata": {},
   "outputs": [],
   "source": [
    "data = r.json()"
   ]
  },
  {
   "cell_type": "code",
   "execution_count": 20,
   "metadata": {},
   "outputs": [],
   "source": [
    "from pprint import pprint"
   ]
  },
  {
   "cell_type": "code",
   "execution_count": 26,
   "metadata": {},
   "outputs": [],
   "source": [
    "address = data['results'][0]['formatted_address']\n",
    "lat = data['results'][0]['geometry']['location']['lat']\n",
    "lng = data['results'][0]['geometry']['location']['lng']"
   ]
  },
  {
   "cell_type": "code",
   "execution_count": 21,
   "metadata": {},
   "outputs": [
    {
     "name": "stdout",
     "output_type": "stream",
     "text": [
      "[{'address_components': [{'long_name': 'New Delhi',\n",
      "                          'short_name': 'New Delhi',\n",
      "                          'types': ['locality', 'political']},\n",
      "                         {'long_name': 'Delhi',\n",
      "                          'short_name': 'DL',\n",
      "                          'types': ['administrative_area_level_1',\n",
      "                                    'political']},\n",
      "                         {'long_name': 'India',\n",
      "                          'short_name': 'IN',\n",
      "                          'types': ['country', 'political']},\n",
      "                         {'long_name': '110034',\n",
      "                          'short_name': '110034',\n",
      "                          'types': ['postal_code']}],\n",
      "  'formatted_address': '47, Nishant Kunj, 1st & 2nd Floor, Pitampura Main '\n",
      "                       'Road, Opposite Metro Pillar 337, Pitampura, New Delhi, '\n",
      "                       'Delhi 110034, India',\n",
      "  'geometry': {'location': {'lat': 28.6969421, 'lng': 77.14238250000001},\n",
      "               'location_type': 'GEOMETRIC_CENTER',\n",
      "               'viewport': {'northeast': {'lat': 28.6982910802915,\n",
      "                                          'lng': 77.14373148029152},\n",
      "                            'southwest': {'lat': 28.6955931197085,\n",
      "                                          'lng': 77.14103351970851}}},\n",
      "  'place_id': 'ChIJ_ZBg-dEDDTkRCYK3Ee8ywoI',\n",
      "  'plus_code': {'compound_code': 'M4WR+QX Delhi, India',\n",
      "                'global_code': '7JWVM4WR+QX'},\n",
      "  'types': ['establishment', 'point_of_interest']}]\n"
     ]
    }
   ],
   "source": [
    "pprint(data['results'])"
   ]
  },
  {
   "cell_type": "code",
   "execution_count": 19,
   "metadata": {},
   "outputs": [
    {
     "data": {
      "text/plain": [
       "[{'address_components': [{'long_name': 'New Delhi',\n",
       "    'short_name': 'New Delhi',\n",
       "    'types': ['locality', 'political']},\n",
       "   {'long_name': 'Delhi',\n",
       "    'short_name': 'DL',\n",
       "    'types': ['administrative_area_level_1', 'political']},\n",
       "   {'long_name': 'India',\n",
       "    'short_name': 'IN',\n",
       "    'types': ['country', 'political']},\n",
       "   {'long_name': '110034', 'short_name': '110034', 'types': ['postal_code']}],\n",
       "  'formatted_address': '47, Nishant Kunj, 1st & 2nd Floor, Pitampura Main Road, Opposite Metro Pillar 337, Pitampura, New Delhi, Delhi 110034, India',\n",
       "  'geometry': {'location': {'lat': 28.6969421, 'lng': 77.14238250000001},\n",
       "   'location_type': 'GEOMETRIC_CENTER',\n",
       "   'viewport': {'northeast': {'lat': 28.6982910802915,\n",
       "     'lng': 77.14373148029152},\n",
       "    'southwest': {'lat': 28.6955931197085, 'lng': 77.14103351970851}}},\n",
       "  'place_id': 'ChIJ_ZBg-dEDDTkRCYK3Ee8ywoI',\n",
       "  'plus_code': {'compound_code': 'M4WR+QX Delhi, India',\n",
       "   'global_code': '7JWVM4WR+QX'},\n",
       "  'types': ['establishment', 'point_of_interest']}]"
      ]
     },
     "execution_count": 19,
     "metadata": {},
     "output_type": "execute_result"
    }
   ],
   "source": [
    "data['results']"
   ]
  },
  {
   "cell_type": "markdown",
   "metadata": {},
   "source": [
    "## POST request\n",
    "\n",
    "![](https://indianpythonista.files.wordpress.com/2016/12/iservice_post_get.png?w=809)"
   ]
  },
  {
   "cell_type": "markdown",
   "metadata": {},
   "source": [
    "### Example 1\n",
    "\n",
    "[Pastebin API](https://pastebin.com/api)"
   ]
  },
  {
   "cell_type": "code",
   "execution_count": 28,
   "metadata": {},
   "outputs": [],
   "source": [
    "url = \"https://pastebin.com/api/api_post.php\""
   ]
  },
  {
   "cell_type": "code",
   "execution_count": 29,
   "metadata": {},
   "outputs": [],
   "source": [
    "api_dev_key = \"b4d2dc565cf00f0a1e89a0afdb20addc\""
   ]
  },
  {
   "cell_type": "code",
   "execution_count": 37,
   "metadata": {},
   "outputs": [],
   "source": [
    "proxies = {\n",
    "    'https': \"195.138.88.176:8080\"\n",
    "}"
   ]
  },
  {
   "cell_type": "code",
   "execution_count": 30,
   "metadata": {},
   "outputs": [],
   "source": [
    "data = {\n",
    "    'api_dev_key': api_dev_key,\n",
    "    'api_option': 'paste',\n",
    "    'api_paste_code': \"Hello, world!\"\n",
    "}"
   ]
  },
  {
   "cell_type": "code",
   "execution_count": 38,
   "metadata": {},
   "outputs": [],
   "source": [
    "r = requests.post(url, data=data, proxies=proxies)"
   ]
  },
  {
   "cell_type": "markdown",
   "metadata": {},
   "source": [
    "# 2. Downloading files\n",
    "\n",
    "![](https://pics.onsizzle.com/downloading-98-downloading-99-downloading-failed-11367153.png)\n",
    "\n",
    "Downloading large files in chunks!\n",
    "\n",
    "http://www.greenteapress.com/thinkpython/thinkpython.pdf\n",
    "\n",
    "```python\n",
    "chunk_size = 256\n",
    "r = requests.get(url, stream=True)\n",
    "\n",
    "with open(\"python.pdf\", \"wb\") as f:\n",
    "    for chunk in r.iter_content(chunk_size=chunk_size):\n",
    "        f.write(chunk)\n",
    "```"
   ]
  },
  {
   "cell_type": "code",
   "execution_count": 40,
   "metadata": {},
   "outputs": [],
   "source": [
    "chunk_size = 256"
   ]
  },
  {
   "cell_type": "code",
   "execution_count": 41,
   "metadata": {},
   "outputs": [],
   "source": [
    "url = \"http://www.greenteapress.com/thinkpython/thinkpython.pdf\""
   ]
  },
  {
   "cell_type": "code",
   "execution_count": 67,
   "metadata": {},
   "outputs": [],
   "source": [
    "r = requests.get(url, stream=True)"
   ]
  },
  {
   "cell_type": "code",
   "execution_count": 44,
   "metadata": {},
   "outputs": [],
   "source": [
    "from tqdm import tqdm"
   ]
  },
  {
   "cell_type": "code",
   "execution_count": 64,
   "metadata": {},
   "outputs": [],
   "source": [
    "from math import ceil"
   ]
  },
  {
   "cell_type": "code",
   "execution_count": 65,
   "metadata": {},
   "outputs": [],
   "source": [
    "total = ceil(int(r.headers['Content-Length']) / chunk_size)"
   ]
  },
  {
   "cell_type": "code",
   "execution_count": 51,
   "metadata": {},
   "outputs": [
    {
     "data": {
      "text/plain": [
       "{'Date': 'Sat, 11 Aug 2018 09:09:48 GMT', 'Server': 'Apache', 'Last-Modified': 'Mon, 22 Feb 2016 17:23:24 GMT', 'ETag': '\"cbc7d-52c5f17101b00\"', 'Accept-Ranges': 'bytes', 'Content-Length': '834685', 'Keep-Alive': 'timeout=2, max=100', 'Connection': 'Keep-Alive', 'Content-Type': 'application/pdf'}"
      ]
     },
     "execution_count": 51,
     "metadata": {},
     "output_type": "execute_result"
    }
   ],
   "source": [
    "r.headers"
   ]
  },
  {
   "cell_type": "code",
   "execution_count": 68,
   "metadata": {},
   "outputs": [
    {
     "name": "stderr",
     "output_type": "stream",
     "text": [
      "\n",
      "  0%|          | 0/3261 [00:00<?, ?it/s]\u001b[A\n",
      " 62%|██████▏   | 2018/3261 [00:00<00:00, 19680.40it/s]\u001b[A\n",
      "100%|██████████| 3261/3261 [00:00<00:00, 23482.51it/s]\u001b[A"
     ]
    }
   ],
   "source": [
    "with open(\"python.pdf\", \"wb\") as f:\n",
    "    for chunk in tqdm(r.iter_content(chunk_size=chunk_size), total=total):\n",
    "        f.write(chunk)"
   ]
  },
  {
   "cell_type": "markdown",
   "metadata": {},
   "source": [
    "# 3. Web scraping\n",
    "\n",
    "![](https://image.slidesharecdn.com/scrapingtotherescue-160713133749/95/getting-started-with-web-scraping-in-python-9-638.jpg?cb=1468417631)\n"
   ]
  },
  {
   "cell_type": "markdown",
   "metadata": {},
   "source": [
    "## [Beautiful Soup](https://www.crummy.com/software/BeautifulSoup/bs4/doc/)\n",
    "\n",
    ">Beautiful Soup is a Python library for pulling data out of HTML and XML files. It works with your favorite parser to provide idiomatic ways of navigating, searching, and modifying the parse tree. It commonly saves programmers hours or days of work.\n",
    "\n",
    "### Installation\n",
    "\n",
    "```\n",
    "pip install bs4\n",
    "```\n",
    "\n",
    "**Bonus:**\n",
    "```\n",
    "pip install html5lib\n",
    "```"
   ]
  },
  {
   "cell_type": "markdown",
   "metadata": {},
   "source": [
    "https://www.values.com/inspirational-quotes"
   ]
  },
  {
   "cell_type": "code",
   "execution_count": 72,
   "metadata": {},
   "outputs": [],
   "source": [
    "from bs4 import BeautifulSoup"
   ]
  },
  {
   "cell_type": "code",
   "execution_count": 69,
   "metadata": {},
   "outputs": [],
   "source": [
    "url = \"https://www.passiton.com/inspirational-quotes\""
   ]
  },
  {
   "cell_type": "code",
   "execution_count": 70,
   "metadata": {},
   "outputs": [],
   "source": [
    "r = requests.get(url)"
   ]
  },
  {
   "cell_type": "code",
   "execution_count": 73,
   "metadata": {},
   "outputs": [],
   "source": [
    "soup = BeautifulSoup(r.content, 'html5lib')"
   ]
  },
  {
   "cell_type": "code",
   "execution_count": 79,
   "metadata": {},
   "outputs": [],
   "source": [
    "article_elements = soup.findAll('article', attrs={'class': 'quotation'})"
   ]
  },
  {
   "cell_type": "code",
   "execution_count": 80,
   "metadata": {},
   "outputs": [],
   "source": [
    "article_element = article_elements[0]"
   ]
  },
  {
   "cell_type": "code",
   "execution_count": 98,
   "metadata": {},
   "outputs": [
    {
     "data": {
      "text/plain": [
       "<a href=\"/inspirational-quotes/4053-no-legacy-is-so-rich-as-honesty\"><img alt=\"No legacy is so rich as honesty. #&lt;Author:0x007f2798b7ad88&gt;\" class=\"hover\" src=\"https://quotes.values.com/quote_artwork/4053/medium/20180810_friday_quote.jpg?1533403416\"/></a>"
      ]
     },
     "execution_count": 98,
     "metadata": {},
     "output_type": "execute_result"
    }
   ],
   "source": [
    "article_element.a"
   ]
  },
  {
   "cell_type": "code",
   "execution_count": 93,
   "metadata": {},
   "outputs": [],
   "source": [
    "articles = []"
   ]
  },
  {
   "cell_type": "code",
   "execution_count": 99,
   "metadata": {},
   "outputs": [],
   "source": [
    "for article_element in article_elements:\n",
    "    article = {}\n",
    "    article['txt'] = article_element.img['alt']\n",
    "    article['img'] = article_element.img['src']\n",
    "    article['url'] = article_element.a['href']\n",
    "    articles.append(article)"
   ]
  },
  {
   "cell_type": "code",
   "execution_count": 100,
   "metadata": {},
   "outputs": [
    {
     "data": {
      "text/plain": [
       "[{'txt': 'No legacy is so rich as honesty. #<Author:0x007f2798b7ad88>',\n",
       "  'img': 'https://quotes.values.com/quote_artwork/4053/medium/20180810_friday_quote.jpg?1533403416',\n",
       "  'url': '/inspirational-quotes/4053-no-legacy-is-so-rich-as-honesty'},\n",
       " {'txt': 'Honesty is the fastest way to prevent a mistake from turning into a failure. #<Author:0x007f279a3ad9c8>',\n",
       "  'img': 'https://quotes.values.com/quote_artwork/7793/medium/20180809_thursday_quote.jpg?1533403382',\n",
       "  'url': '/inspirational-quotes/7793-honesty-is-the-fastest-way-to-prevent-a-mistake'},\n",
       " {'txt': 'We know the truth, not only by the reason, but also by the heart. #<Author:0x007f279961db78>',\n",
       "  'img': 'https://quotes.values.com/quote_artwork/6114/medium/20180808_wednesday_quote.jpg?1533403338',\n",
       "  'url': '/inspirational-quotes/6114-we-know-the-truth-not-only-by-the-reason-but'},\n",
       " {'txt': 'There is nothing so strong or safe in an emergency of life as the simple truth. #<Author:0x007f2798be8928>',\n",
       "  'img': 'https://quotes.values.com/quote_artwork/7794/medium/20180807_tuesday_quote_updated.jpg?1533578889',\n",
       "  'url': '/inspirational-quotes/7794-there-is-nothing-so-strong-or-safe-in-an'},\n",
       " {'txt': 'Integrity is telling myself the truth. And honesty is telling the truth to other people. #<Author:0x007f27abee2ee0>',\n",
       "  'img': 'https://quotes.values.com/quote_artwork/3637/medium/20180806_monday_quote.jpg?1533403253',\n",
       "  'url': '/inspirational-quotes/3637-integrity-is-telling-myself-the-truth-and'},\n",
       " {'txt': 'Hope is like the sun, which, as we journey toward it, casts the shadow of our burden behind us. #<Author:0x007f279973ea20>',\n",
       "  'img': 'https://quotes.values.com/quote_artwork/7581/medium/201800803_friday_quote.jpg?1532736512',\n",
       "  'url': '/inspirational-quotes/7581-hope-is-like-the-sun-which-as-we-journey'},\n",
       " {'txt': 'No matter how dark the moment, love and hope are always possible. #<Author:0x007f279ad971a0>',\n",
       "  'img': 'https://quotes.values.com/quote_artwork/7792/medium/201800802_thursday_quote.jpg?1532736456',\n",
       "  'url': '/inspirational-quotes/7792-no-matter-how-dark-the-moment-love-and-hope'},\n",
       " {'txt': 'Happiness can be found in even the darkest of times, but only to those who remember to turn on the light. #<Author:0x007f279a8f50e8>',\n",
       "  'img': 'https://quotes.values.com/quote_artwork/3343/medium/201800801_wednesday_quote_updated.jpg?1532985160',\n",
       "  'url': '/inspirational-quotes/3343-happiness-can-be-found-in-even-the-darkest-of'},\n",
       " {'txt': 'Expect to have hope rekindled. Expect your prayers to be answered in wondrous ways. The dry seasons do not last. The spring rains will come. #<Author:0x007f27996fb518>',\n",
       "  'img': 'https://quotes.values.com/quote_artwork/7015/medium/201800731_tuesday_quote_updated.jpg?1532985127',\n",
       "  'url': '/inspirational-quotes/7015-expect-to-have-hope-rekindled-expect-your'},\n",
       " {'txt': \"Once you choose hope, anything's possible. #<Author:0x007f2798ad88d0>\",\n",
       "  'img': 'https://quotes.values.com/quote_artwork/5220/medium/201800730_monday_quote.jpg?1532736343',\n",
       "  'url': '/inspirational-quotes/5220-once-you-choose-hope-anythings-possible'},\n",
       " {'txt': 'Treat people as if they were what they ought to be, and you help them become what they are capable of being. #<Author:0x007f27993045b8>',\n",
       "  'img': 'https://quotes.values.com/quote_artwork/7791/medium/20180727_friday_quote.jpg?1532117561',\n",
       "  'url': '/inspirational-quotes/7791-treat-people-as-if-they-were-what-they-ought-to'},\n",
       " {'txt': 'The greatest leaders are not necessarily the ones who do the greatest things. They are the ones that inspire others to do great things. #<Author:0x007f2798b53558>',\n",
       "  'img': 'https://quotes.values.com/quote_artwork/7790/medium/20180726_thursday_quote.jpg?1532117514',\n",
       "  'url': '/inspirational-quotes/7790-the-greatest-leaders-are-not-necessarily-the'},\n",
       " {'txt': 'Leaders who win the respect of others are the ones who deliver more than they promise, not the ones who promise more than they can deliver. #<Author:0x007f27982006e0>',\n",
       "  'img': 'https://quotes.values.com/quote_artwork/3232/medium/20180725_wednesday_quote_updated.jpg?1532117437',\n",
       "  'url': '/inspirational-quotes/3232-leaders-who-win-the-respect-of-others-are-the'},\n",
       " {'txt': \"A leader is someone who demonstrates what's possible. #<Author:0x007f2798fd8f60>\",\n",
       "  'img': 'https://quotes.values.com/quote_artwork/4681/medium/20180724_tuesday_quote.jpg?1532117170',\n",
       "  'url': '/inspirational-quotes/4681-a-leader-is-someone-who-demonstrates-whats'},\n",
       " {'txt': 'Great things can be achieved by leading through wisdom, empathy, and integrity—with no other agenda than humanity. #<Author:0x007f2798c3dc20>',\n",
       "  'img': 'https://quotes.values.com/quote_artwork/7789/medium/20180723_monday_quote.jpg?1532117137',\n",
       "  'url': '/inspirational-quotes/7789-great-things-can-be-achieved-by-leading-through'},\n",
       " {'txt': \"Above everything else I've done, I've always said I've had more guts than I've got talent. #<Author:0x007f27989548b0>\",\n",
       "  'img': 'https://quotes.values.com/quote_artwork/7788/medium/201800720_friday_quote.jpg?1531519007',\n",
       "  'url': '/inspirational-quotes/7788-above-everything-else-ive-done-ive-always-said'}]"
      ]
     },
     "execution_count": 100,
     "metadata": {},
     "output_type": "execute_result"
    }
   ],
   "source": [
    "articles"
   ]
  },
  {
   "cell_type": "code",
   "execution_count": 101,
   "metadata": {},
   "outputs": [],
   "source": [
    "import csv"
   ]
  },
  {
   "cell_type": "code",
   "execution_count": 104,
   "metadata": {},
   "outputs": [],
   "source": [
    "with open(\"quotes.csv\", \"w\") as f:\n",
    "    writer = csv.DictWriter(f, fieldnames=['img', 'txt', 'url'])\n",
    "    writer.writeheader()\n",
    "    writer.writerows(articles)"
   ]
  },
  {
   "cell_type": "markdown",
   "metadata": {},
   "source": [
    "![](http://www.entropywebscraping.com/wp-content/uploads/2017/02/Screenshot-from-2017-02-01-10-23-00.png)"
   ]
  },
  {
   "cell_type": "markdown",
   "metadata": {},
   "source": [
    "# 4. Web automation\n",
    " \n",
    " ![](https://images.contentful.com/qs7jgwzogkzr/6HeUbprAsMYek2Keqi0WYo/d8ad7cf2f15e706ead76e00a53859cc7/testing-automation-alternatives.jpg)\n",
    " \n",
    " **Task:** Automatically submit the code for a [problem](https://www.codechef.com/problems/TEST) on [codechef](https://www.codechef.com/).\n",
    " \n",
    " ### [Selenium](http://selenium-python.readthedocs.io/) : Web automation and testing\n",
    " \n",
    " ![](https://udemy-images.udemy.com/course/750x422/482754_7146_4.jpg)\n",
    " \n",
    " \n",
    " #### Installation\n",
    " \n",
    " - To install python bindings for selenium:\n",
    "     ```\n",
    "     pip install selenium\n",
    "     ```\n",
    "     \n",
    " - To install webdriver:\n",
    " \n",
    "     http://selenium-python.readthedocs.io/installation.html#drivers\n",
    "     \n",
    "     [How to put webdriver in PATH?](https://stackoverflow.com/questions/40208051/selenium-using-python-geckodriver-executable-needs-to-be-in-path)\n",
    " \n",
    " #### To start a browser session\n",
    " ```python\n",
    " from selenium import webdriver\n",
    " browser = webdriver.Chrome()\n",
    " ```\n",
    " \n",
    " #### To open a webpage\n",
    " ```python\n",
    " browser.get('https://www.codechef.com')\n",
    " ```\n",
    " \n",
    " #### To select an element by its id\n",
    " ```python\n",
    " browser.find_element_by_id(<id>)\n",
    " ```\n",
    " \n",
    " #### Input value in element\n",
    " ```python\n",
    " element.send_keys()\n",
    " ```\n",
    " \n",
    " #### Click on an element\n",
    " ```python\n",
    " element.click()\n",
    " ```"
   ]
  },
  {
   "cell_type": "code",
   "execution_count": 105,
   "metadata": {},
   "outputs": [],
   "source": [
    "from selenium import webdriver"
   ]
  },
  {
   "cell_type": "code",
   "execution_count": 107,
   "metadata": {},
   "outputs": [],
   "source": [
    "browser = webdriver.Chrome()"
   ]
  },
  {
   "cell_type": "code",
   "execution_count": 108,
   "metadata": {},
   "outputs": [],
   "source": [
    "browser.get(\"https://www.codechef.com\")"
   ]
  },
  {
   "cell_type": "code",
   "execution_count": 109,
   "metadata": {},
   "outputs": [],
   "source": [
    "username_element = browser.find_element_by_id('edit-name')"
   ]
  },
  {
   "cell_type": "code",
   "execution_count": 110,
   "metadata": {},
   "outputs": [],
   "source": [
    "username_element.send_keys('nikhilksingh97')"
   ]
  },
  {
   "cell_type": "code",
   "execution_count": 111,
   "metadata": {},
   "outputs": [],
   "source": [
    "from getpass import getpass"
   ]
  },
  {
   "cell_type": "code",
   "execution_count": 113,
   "metadata": {},
   "outputs": [],
   "source": [
    "password_element = browser.find_element_by_id('edit-pass')"
   ]
  },
  {
   "cell_type": "code",
   "execution_count": null,
   "metadata": {},
   "outputs": [],
   "source": [
    "password_element.send_keys(getpass())"
   ]
  },
  {
   "cell_type": "code",
   "execution_count": 115,
   "metadata": {},
   "outputs": [],
   "source": [
    "browser.find_element_by_id('edit-submit').click()"
   ]
  },
  {
   "cell_type": "code",
   "execution_count": 127,
   "metadata": {},
   "outputs": [],
   "source": [
    "browser.get(\"https://www.codechef.com/submit/TEST\")"
   ]
  },
  {
   "cell_type": "code",
   "execution_count": 128,
   "metadata": {},
   "outputs": [],
   "source": [
    "browser.find_element_by_id('edit_area_toggle_checkbox_edit-program').click()"
   ]
  },
  {
   "cell_type": "code",
   "execution_count": 129,
   "metadata": {},
   "outputs": [],
   "source": [
    "code_element = browser.find_element_by_id('edit-program')"
   ]
  },
  {
   "cell_type": "code",
   "execution_count": 130,
   "metadata": {},
   "outputs": [],
   "source": [
    "code_element.send_keys(open('solution.cpp', 'r').read())"
   ]
  },
  {
   "cell_type": "code",
   "execution_count": 131,
   "metadata": {},
   "outputs": [],
   "source": [
    "browser.find_element_by_xpath('//*[@id=\"edit-language\"]/option[2]').click()"
   ]
  },
  {
   "cell_type": "code",
   "execution_count": 132,
   "metadata": {},
   "outputs": [],
   "source": [
    "browser.find_element_by_id('edit-submit').click()"
   ]
  },
  {
   "cell_type": "markdown",
   "metadata": {},
   "source": [
    "![](https://i.imgflip.com/poxkz.jpg)"
   ]
  },
  {
   "cell_type": "markdown",
   "metadata": {},
   "source": [
    "## Resourses:\n",
    "\n",
    "- Python packages:\n",
    "\n",
    "    - [requests](http://docs.python-requests.org/en/master/)\n",
    "\n",
    "    - [bs4](https://www.crummy.com/software/BeautifulSoup/bs4/doc/)\n",
    "    \n",
    "    - [html5lib](https://html5lib.readthedocs.io/en/latest/)\n",
    " \n",
    "\n",
    "- Articles:\n",
    "\n",
    "    - https://indianpythonista.wordpress.com/2016/12/10/get-and-post-requests-using-python/\n",
    "\n",
    "    - https://indianpythonista.wordpress.com/2016/10/18/requests-http-for-pythonistas/\n",
    "\n",
    "    - https://indianpythonista.wordpress.com/2016/12/10/downloading-files-from-web-using-python/\n",
    "\n",
    "    - https://indianpythonista.wordpress.com/2016/12/10/implementing-web-scraping-in-python-with-beautiful-soup/\n",
    "\n",
    "\n",
    "- Videos:\n",
    "\n",
    "    - File downloader: https://www.youtube.com/watch?v=Xhw2l-hzoKk\n",
    "    - Web scraping: https://www.youtube.com/watch?v=lIkd_jt28i0&t=557s"
   ]
  }
 ],
 "metadata": {
  "kernelspec": {
   "display_name": "Python 3",
   "language": "python",
   "name": "python3"
  },
  "language_info": {
   "codemirror_mode": {
    "name": "ipython",
    "version": 3
   },
   "file_extension": ".py",
   "mimetype": "text/x-python",
   "name": "python",
   "nbconvert_exporter": "python",
   "pygments_lexer": "ipython3",
   "version": "3.6.5"
  }
 },
 "nbformat": 4,
 "nbformat_minor": 2
}
